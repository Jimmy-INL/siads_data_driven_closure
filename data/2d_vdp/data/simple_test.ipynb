{
 "cells": [
  {
   "cell_type": "code",
   "execution_count": 1,
   "metadata": {},
   "outputs": [
    {
     "name": "stdout",
     "output_type": "stream",
     "text": [
      "closure_2d_vdp_ntsnap_1200_tot_60.npz\r\n",
      "closure_2d_vdp_ntsnap_6000_tot_60.npz\r\n",
      "closure_2d_vdp_ntsnap_600_tot_60.npz\r\n",
      "physical_snapshots_resolved_2d_vdp_ntsnap_1200_tot_60.npy\r\n",
      "physical_snapshots_resolved_2d_vdp_ntsnap_6000_tot_60.npy\r\n",
      "physical_snapshots_resolved_2d_vdp_ntsnap_600_tot_60.npy\r\n",
      "simple_test.ipynb\r\n"
     ]
    }
   ],
   "source": [
    "%ls\n",
    "\n",
    "import numpy as np\n",
    "data = np.load('closure_2d_vdp_ntsnap_6000_tot_60.npz')\n",
    "\n",
    "closure = data['ec_snap'].transpose()\n",
    "\n",
    "states = data['usnap_les'].transpose()"
   ]
  },
  {
   "cell_type": "code",
   "execution_count": 2,
   "metadata": {},
   "outputs": [],
   "source": [
    "## parameter: previous time step\n",
    "p = 0\n",
    "\n",
    "## parameter: nu\n",
    "nu = 2\n",
    "\n",
    "## parameter: dt\n",
    "dt = 60/6000.0"
   ]
  },
  {
   "cell_type": "code",
   "execution_count": 3,
   "metadata": {},
   "outputs": [],
   "source": [
    "## target: d delta / dt\n",
    "target = (closure[1:,:] - closure[:-1,:])/dt  "
   ]
  },
  {
   "cell_type": "code",
   "execution_count": 4,
   "metadata": {},
   "outputs": [
    {
     "name": "stdout",
     "output_type": "stream",
     "text": [
      "mean squared error on whole data = 3.97439965511e-29\n"
     ]
    }
   ],
   "source": [
    "## target without last term\n",
    "eff_states = states[:-1,:]\n",
    "eff_closure = closure[:-1,:]\n",
    "\n",
    "## analytically:\n",
    "\n",
    "analytical_prediction = nu*eff_closure - nu*eff_states*eff_states*eff_closure - eff_states\n",
    "\n",
    "print 'mean squared error on whole data =', np.square(analytical_prediction-target).mean()"
   ]
  },
  {
   "cell_type": "code",
   "execution_count": 5,
   "metadata": {},
   "outputs": [
    {
     "name": "stdout",
     "output_type": "stream",
     "text": [
      "[[-1.        ]\n",
      " [-1.        ]\n",
      " [-0.999908  ]\n",
      " ..., \n",
      " [-8.94478564]\n",
      " [-8.62287045]\n",
      " [-8.29179204]]\n"
     ]
    }
   ],
   "source": [
    "print analytical_prediction"
   ]
  },
  {
   "cell_type": "code",
   "execution_count": 6,
   "metadata": {},
   "outputs": [
    {
     "name": "stdout",
     "output_type": "stream",
     "text": [
      "[[-1.        ]\n",
      " [-1.        ]\n",
      " [-0.999908  ]\n",
      " ..., \n",
      " [-8.94478564]\n",
      " [-8.62287045]\n",
      " [-8.29179204]]\n"
     ]
    }
   ],
   "source": [
    "print target"
   ]
  },
  {
   "cell_type": "code",
   "execution_count": 7,
   "metadata": {},
   "outputs": [
    {
     "name": "stdout",
     "output_type": "stream",
     "text": [
      "[[ 0.        ]\n",
      " [-0.01      ]\n",
      " [-0.02      ]\n",
      " ..., \n",
      " [ 1.35322958]\n",
      " [ 1.26378172]\n",
      " [ 1.17755302]]\n"
     ]
    }
   ],
   "source": [
    "print eff_closure"
   ]
  },
  {
   "cell_type": "code",
   "execution_count": 8,
   "metadata": {},
   "outputs": [
    {
     "name": "stdout",
     "output_type": "stream",
     "text": [
      "[[ 0.        ]\n",
      " [-0.01      ]\n",
      " [-0.02      ]\n",
      " ..., \n",
      " [ 1.26378172]\n",
      " [ 1.17755302]\n",
      " [ 1.0946351 ]]\n"
     ]
    }
   ],
   "source": [
    "print closure"
   ]
  },
  {
   "cell_type": "code",
   "execution_count": null,
   "metadata": {},
   "outputs": [],
   "source": []
  },
  {
   "cell_type": "code",
   "execution_count": null,
   "metadata": {},
   "outputs": [],
   "source": []
  }
 ],
 "metadata": {
  "kernelspec": {
   "display_name": "Python 2",
   "language": "python",
   "name": "python2"
  },
  "language_info": {
   "codemirror_mode": {
    "name": "ipython",
    "version": 2
   },
   "file_extension": ".py",
   "mimetype": "text/x-python",
   "name": "python",
   "nbconvert_exporter": "python",
   "pygments_lexer": "ipython2",
   "version": "2.7.12"
  }
 },
 "nbformat": 4,
 "nbformat_minor": 2
}
